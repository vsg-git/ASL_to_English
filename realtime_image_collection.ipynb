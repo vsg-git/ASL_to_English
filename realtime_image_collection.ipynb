import os
import cv2
import time
import uuid

IMAGE_PATH='collectedimages'

labels=['hello','thanks','yes','no','iloveyou','please']
number_of_images=15

for label in labels:
    !mkdir {'collectedimages'}
    cap=cv2.VideoCapture(0)
    print('Collecting images for {}'.format(label))
    time.sleep(5)
    for imgnum in range(number_of_images):
        ret,frame=cap.read()
        imagename=os.path.join(IMAGE_PATH,label+'.'+'{}.jpg'.format(str(uuid.uuid1())))
        print(imagename)
        status = cv2.imwrite(imagename,frame)
        print(status)
        cv2.imshow('frame',frame)
        time.sleep(2)
        
        if cv2.waitKey(1) & 0xFF==ord('q'):
            break
    cap.release()
